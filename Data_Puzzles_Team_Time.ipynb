{
  "nbformat": 4,
  "nbformat_minor": 0,
  "metadata": {
    "colab": {
      "provenance": [],
      "include_colab_link": true
    },
    "kernelspec": {
      "name": "python3",
      "display_name": "Python 3"
    },
    "language_info": {
      "name": "python"
    }
  },
  "cells": [
    {
      "cell_type": "markdown",
      "metadata": {
        "id": "view-in-github",
        "colab_type": "text"
      },
      "source": [
        "<a href=\"https://colab.research.google.com/github/jeremiah-dibble/Data-Puzzles/blob/main/Data_Puzzles_Team_Time.ipynb\" target=\"_parent\"><img src=\"https://colab.research.google.com/assets/colab-badge.svg\" alt=\"Open In Colab\"/></a>"
      ]
    },
    {
      "cell_type": "markdown",
      "source": [
        "# Intro\n",
        "\n",
        "A few friends and I are playing a game at 6pm. I know they often arrive late, and I really don't want to be late.\n",
        "\n",
        "I actually looked at historical data, and found out my friends arrival time can be described as random variable that follows a normal distribution of parameter mean = 'appointment time' amd std_dev = 10 min. \n",
        "\n",
        "I need to set the appointment so that Im at least 99% confident all my friends will be there by 6pm. Can you figure out the latest appointment time that would check that criteria? Thanks!!"
      ],
      "metadata": {
        "id": "z62dKQEo5eEo"
      }
    },
    {
      "cell_type": "code",
      "execution_count": null,
      "metadata": {
        "id": "VJN2jlPR5YLF"
      },
      "outputs": [],
      "source": [
        "game_time = 18 * 60 # 6pm in number of minutes from midnight\n",
        "n_friends = 4\n",
        "std_dev_arrival_time_min = 10\n",
        "target_confidence = .99\n",
        "# ... and that's all!\n",
        "# right_appointment_time = ?"
      ]
    },
    {
      "cell_type": "code",
      "source": [
        "indv_con = target_confidence**(1/n_friends)\n",
        "print(indv_con, indv_con**n_friends)\n"
      ],
      "metadata": {
        "id": "lkKBacrKCnQF",
        "outputId": "896150f8-547d-469e-99a1-f1b6efc4db66",
        "colab": {
          "base_uri": "https://localhost:8080/"
        }
      },
      "execution_count": null,
      "outputs": [
        {
          "output_type": "stream",
          "name": "stdout",
          "text": [
            "0.9974905699336811 0.9900000000000001\n"
          ]
        }
      ]
    },
    {
      "cell_type": "code",
      "source": [
        "import scipy.stats as sps\n",
        "off_set = sps.norm.ppf(indv_con, loc=0, scale=10)\n",
        "off_set"
      ],
      "metadata": {
        "id": "uY3wxYSGEMYO",
        "outputId": "96b1ad62-a0e4-4b5f-e863-7ed2c3480e8c",
        "colab": {
          "base_uri": "https://localhost:8080/"
        }
      },
      "execution_count": null,
      "outputs": [
        {
          "output_type": "execute_result",
          "data": {
            "text/plain": [
              "28.058207606684466"
            ]
          },
          "metadata": {},
          "execution_count": 15
        }
      ]
    },
    {
      "cell_type": "code",
      "source": [
        "suffix = 'AM'\n",
        "arival_time = game_time - off_set\n",
        "hour = int(arival_time/60)\n",
        "min = round((arival_time/60 - hour)*60,0)\n",
        "if hour > 12:\n",
        "  hour -= 12\n",
        "  suffix = 'PM'\n",
        "  \n",
        "print(f'{hour}:{min} {suffix}')"
      ],
      "metadata": {
        "id": "fong0GCqHAI-",
        "outputId": "8312a7c5-c63d-4b75-c856-430b2c26a6fb",
        "colab": {
          "base_uri": "https://localhost:8080/"
        }
      },
      "execution_count": null,
      "outputs": [
        {
          "output_type": "stream",
          "name": "stdout",
          "text": [
            "5:32.0 PM\n"
          ]
        }
      ]
    }
  ]
}